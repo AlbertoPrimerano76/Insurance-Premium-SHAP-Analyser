{
 "cells": [
  {
   "cell_type": "code",
   "execution_count": 2,
   "metadata": {},
   "outputs": [],
   "source": [
    "import importlib\n",
    "import numpy as np\n",
    "import pandas as pd\n",
    "from collections import defaultdict\n",
    "from tqdm.auto import tqdm\n",
    "from sklearn.metrics import mean_squared_error, mean_absolute_error, explained_variance_score, median_absolute_error, max_error\n",
    "from sklearn.model_selection import train_test_split\n",
    "import shap\n",
    "from xgboost import XGBRegressor\n",
    "import traceback\n",
    "from utilities import pre_process_data\n",
    "from statsmodels.stats.stattools import durbin_watson\n"
   ]
  },
  {
   "cell_type": "code",
   "execution_count": 3,
   "metadata": {},
   "outputs": [],
   "source": [
    "def smape(y_true, y_pred):\n",
    "    return 100 * np.mean(2 * np.abs(y_pred - y_true) / (np.abs(y_pred) + np.abs(y_true)))\n",
    "\n",
    "def quantile_loss(y_true, y_pred, quantile=0.5):\n",
    "    residual = y_true - y_pred\n",
    "    return np.mean(np.maximum(quantile * residual, (quantile - 1) * residual))"
   ]
  },
  {
   "cell_type": "code",
   "execution_count": 4,
   "metadata": {},
   "outputs": [],
   "source": [
    "models = {\n",
    "    'XGBoost': XGBRegressor(n_estimators=100, max_depth=3, learning_rate=0.1),\n",
    "}"
   ]
  },
  {
   "cell_type": "code",
   "execution_count": 5,
   "metadata": {},
   "outputs": [],
   "source": [
    "experiments = [\n",
    "    {\n",
    "        'name': 'Auto Premium',\n",
    "        'module': 'auto_insurance_premium',\n",
    "        'prefix': 'auto',\n",
    "        'important_features': {'Age', 'Gender', 'State', 'Business Use', 'Annual kilometers'}\n",
    "    },\n",
    "    {\n",
    "        'name': 'Cyber Security',\n",
    "        'prefix': 'cyber',\n",
    "        'module': 'cybersecurity_insurance_premium',\n",
    "        'important_features': {'Company Size', 'Industry Risk', 'Security Score', 'Data Sensitivity', 'Business Interruption Cost'}\n",
    "    },\n",
    "    {\n",
    "        'name': 'Environment Liability',\n",
    "        'prefix': 'env_liab',\n",
    "        'module': 'env_liability_insurance_premium',\n",
    "        'important_features': {'Industry Type', 'Company Size', 'Pollution Risk', 'Regulatory Compliance', 'Years of Operation', 'Incident History', 'Coverage Limit'}\n",
    "    }\n",
    "]"
   ]
  },
  {
   "cell_type": "code",
   "execution_count": 6,
   "metadata": {},
   "outputs": [],
   "source": [
    "target_column = 'Premium'\n",
    "experiment_file_name = \"experiment_200\"\n",
    "N = 1000\n",
    "sample_sizes = [200,500]\n",
    "experiments_to_run = ['Auto Premium', 'Cyber Security', 'Environment Liability']"
   ]
  },
  {
   "cell_type": "code",
   "execution_count": 8,
   "metadata": {},
   "outputs": [],
   "source": [
    "def run_model(name, model, X_train, X_test, y_train, y_test, X_processed, important_features):\n",
    "    try:\n",
    "        model.fit(X_train, y_train)\n",
    "        y_pred = model.predict(X_test)\n",
    "        r2_score = model.score(X_test, y_test)\n",
    "        mse_score = mean_squared_error(y_test, y_pred)\n",
    "        mae_score = mean_absolute_error(y_test, y_pred)\n",
    "        rmse_score = np.sqrt(mse_score)\n",
    "        accuracy_score = explained_variance_score(y_test, y_pred)\n",
    "        medae = median_absolute_error(y_test, y_pred)\n",
    "        max_err = max_error(y_test, y_pred)\n",
    "        rae = np.sum(np.abs(y_test - y_pred)) / np.sum(np.abs(y_test - np.mean(y_test)))\n",
    "        smape_value = smape(y_test, y_pred)\n",
    "        bias = np.mean(y_pred - y_test)\n",
    "        interval = 1.96 * np.std(y_pred)\n",
    "        lower_bound = y_pred - interval\n",
    "        upper_bound = y_pred + interval\n",
    "        picp = np.mean((y_test >= lower_bound) & (y_test <= upper_bound))\n",
    "        cv = np.std(y_pred) / np.mean(y_pred)\n",
    "        quantile_loss_value = quantile_loss(y_test, y_pred, quantile=0.5)\n",
    "        residuals = y_test - y_pred\n",
    "        durbin_watson_stat = durbin_watson(residuals)\n",
    "        explainer = shap.TreeExplainer(model, feature_perturbation='interventional')\n",
    "        shap_values = explainer.shap_values(X_test, check_additivity=False)\n",
    "        shap_feature_importance = dict(zip(X_processed.columns, np.mean(np.abs(shap_values), axis=0)))\n",
    "        sorted_features = sorted(shap_feature_importance.items(), key=lambda item: item[1], reverse=True)\n",
    "        sorted_feature_names = [feature for feature, importance in sorted_features]\n",
    "        top_features = set(sorted_feature_names[:len(important_features)])\n",
    "        match_percentage = len(important_features.intersection(top_features)) / len(important_features) * 100\n",
    "\n",
    "        return {\n",
    "            'Model': name,\n",
    "            'Sample Size': len(X_train),\n",
    "            'R²': r2_score,\n",
    "            'MAE': mae_score,\n",
    "            'RMSE': rmse_score,\n",
    "            'Accuracy': accuracy_score,\n",
    "            'MedAE': medae,\n",
    "            'Max Error': max_err,\n",
    "            'RAE': rae,\n",
    "            'sMAPE': smape_value,\n",
    "            'Bias': bias,\n",
    "            'PICP': picp,\n",
    "            'CV': cv,\n",
    "            'Quantile Loss': quantile_loss_value,\n",
    "            'Durbin-Watson': durbin_watson_stat,\n",
    "            'SHAP Match Percentage': match_percentage,\n",
    "            'Top SHAP Features': {feature: importance for feature, importance in sorted_features[:len(important_features)]}\n",
    "        }\n",
    "    except Exception as e:\n",
    "        traceback.print_exc()\n",
    "        return None"
   ]
  },
  {
   "cell_type": "code",
   "execution_count": 9,
   "metadata": {},
   "outputs": [
    {
     "data": {
      "application/vnd.jupyter.widget-view+json": {
       "model_id": "ceebaf85c24d4216a41ebc29907f0604",
       "version_major": 2,
       "version_minor": 0
      },
      "text/plain": [
       "Running Auto Premium:   0%|          | 0/2000 [00:00<?, ?it/s]"
      ]
     },
     "metadata": {},
     "output_type": "display_data"
    },
    {
     "data": {
      "application/vnd.jupyter.widget-view+json": {
       "model_id": "ec796568b884480a8f2b5a8696d25839",
       "version_major": 2,
       "version_minor": 0
      },
      "text/plain": [
       "Processing rows:   0%|          | 0/200 [00:00<?, ?it/s]"
      ]
     },
     "metadata": {},
     "output_type": "display_data"
    },
    {
     "data": {
      "application/vnd.jupyter.widget-view+json": {
       "model_id": "2d099735d2994d98bf4b46bf4b1f2f3d",
       "version_major": 2,
       "version_minor": 0
      },
      "text/plain": [
       "Processing rows:   0%|          | 0/500 [00:00<?, ?it/s]"
      ]
     },
     "metadata": {},
     "output_type": "display_data"
    },
    {
     "data": {
      "application/vnd.jupyter.widget-view+json": {
       "model_id": "46794a0df4564dd8abf0a46f817921d5",
       "version_major": 2,
       "version_minor": 0
      },
      "text/plain": [
       "Processing rows:   0%|          | 0/200 [00:00<?, ?it/s]"
      ]
     },
     "metadata": {},
     "output_type": "display_data"
    },
    {
     "data": {
      "application/vnd.jupyter.widget-view+json": {
       "model_id": "0e2a09a76bea40e8813a476ef6ff772d",
       "version_major": 2,
       "version_minor": 0
      },
      "text/plain": [
       "Processing rows:   0%|          | 0/500 [00:00<?, ?it/s]"
      ]
     },
     "metadata": {},
     "output_type": "display_data"
    },
    {
     "data": {
      "application/vnd.jupyter.widget-view+json": {
       "model_id": "0bee9ba6d3754f38bf17d359ca4976db",
       "version_major": 2,
       "version_minor": 0
      },
      "text/plain": [
       "Processing rows:   0%|          | 0/200 [00:00<?, ?it/s]"
      ]
     },
     "metadata": {},
     "output_type": "display_data"
    },
    {
     "data": {
      "application/vnd.jupyter.widget-view+json": {
       "model_id": "614349c1f82b4540a6cac504a7ef3a0c",
       "version_major": 2,
       "version_minor": 0
      },
      "text/plain": [
       "Processing rows:   0%|          | 0/500 [00:00<?, ?it/s]"
      ]
     },
     "metadata": {},
     "output_type": "display_data"
    },
    {
     "data": {
      "application/vnd.jupyter.widget-view+json": {
       "model_id": "84423e8c483e4cfdbb5e793b65fd8417",
       "version_major": 2,
       "version_minor": 0
      },
      "text/plain": [
       "Processing rows:   0%|          | 0/200 [00:00<?, ?it/s]"
      ]
     },
     "metadata": {},
     "output_type": "display_data"
    },
    {
     "data": {
      "application/vnd.jupyter.widget-view+json": {
       "model_id": "bdc14ee70b3144c6a55ffd842a78fb20",
       "version_major": 2,
       "version_minor": 0
      },
      "text/plain": [
       "Processing rows:   0%|          | 0/500 [00:00<?, ?it/s]"
      ]
     },
     "metadata": {},
     "output_type": "display_data"
    },
    {
     "data": {
      "application/vnd.jupyter.widget-view+json": {
       "model_id": "c41b442bf44e4dc4bacccc43fab8ae29",
       "version_major": 2,
       "version_minor": 0
      },
      "text/plain": [
       "Processing rows:   0%|          | 0/200 [00:00<?, ?it/s]"
      ]
     },
     "metadata": {},
     "output_type": "display_data"
    },
    {
     "data": {
      "application/vnd.jupyter.widget-view+json": {
       "model_id": "f883be1cc3534aa1a75b940206dabdd2",
       "version_major": 2,
       "version_minor": 0
      },
      "text/plain": [
       "Processing rows:   0%|          | 0/500 [00:00<?, ?it/s]"
      ]
     },
     "metadata": {},
     "output_type": "display_data"
    },
    {
     "data": {
      "application/vnd.jupyter.widget-view+json": {
       "model_id": "b6fd10317e9a47c6a71f079b6f76a424",
       "version_major": 2,
       "version_minor": 0
      },
      "text/plain": [
       "Processing rows:   0%|          | 0/200 [00:00<?, ?it/s]"
      ]
     },
     "metadata": {},
     "output_type": "display_data"
    },
    {
     "data": {
      "application/vnd.jupyter.widget-view+json": {
       "model_id": "92d7d83de936415fbd8b5cffd3ecd7e4",
       "version_major": 2,
       "version_minor": 0
      },
      "text/plain": [
       "Processing rows:   0%|          | 0/500 [00:00<?, ?it/s]"
      ]
     },
     "metadata": {},
     "output_type": "display_data"
    },
    {
     "data": {
      "application/vnd.jupyter.widget-view+json": {
       "model_id": "c3cc6e42c71e4998b3cccf9156379445",
       "version_major": 2,
       "version_minor": 0
      },
      "text/plain": [
       "Processing rows:   0%|          | 0/200 [00:00<?, ?it/s]"
      ]
     },
     "metadata": {},
     "output_type": "display_data"
    },
    {
     "data": {
      "application/vnd.jupyter.widget-view+json": {
       "model_id": "87a09347004e45dfab9c4523417b6bc7",
       "version_major": 2,
       "version_minor": 0
      },
      "text/plain": [
       "Processing rows:   0%|          | 0/500 [00:00<?, ?it/s]"
      ]
     },
     "metadata": {},
     "output_type": "display_data"
    },
    {
     "data": {
      "application/vnd.jupyter.widget-view+json": {
       "model_id": "1caaa9e3094e4193a05f2e62ccb4fa88",
       "version_major": 2,
       "version_minor": 0
      },
      "text/plain": [
       "Processing rows:   0%|          | 0/200 [00:00<?, ?it/s]"
      ]
     },
     "metadata": {},
     "output_type": "display_data"
    },
    {
     "data": {
      "application/vnd.jupyter.widget-view+json": {
       "model_id": "653dcdbc535840359c1a6e4d5103aad6",
       "version_major": 2,
       "version_minor": 0
      },
      "text/plain": [
       "Processing rows:   0%|          | 0/500 [00:00<?, ?it/s]"
      ]
     },
     "metadata": {},
     "output_type": "display_data"
    },
    {
     "data": {
      "application/vnd.jupyter.widget-view+json": {
       "model_id": "aa62bfd1997944b986b7b272a36033b0",
       "version_major": 2,
       "version_minor": 0
      },
      "text/plain": [
       "Processing rows:   0%|          | 0/200 [00:00<?, ?it/s]"
      ]
     },
     "metadata": {},
     "output_type": "display_data"
    },
    {
     "data": {
      "application/vnd.jupyter.widget-view+json": {
       "model_id": "a51fd559f9d74a0b81191a5e523674ee",
       "version_major": 2,
       "version_minor": 0
      },
      "text/plain": [
       "Processing rows:   0%|          | 0/500 [00:00<?, ?it/s]"
      ]
     },
     "metadata": {},
     "output_type": "display_data"
    },
    {
     "data": {
      "application/vnd.jupyter.widget-view+json": {
       "model_id": "6e7f6f6f2a02485c88de4736e68ee63c",
       "version_major": 2,
       "version_minor": 0
      },
      "text/plain": [
       "Processing rows:   0%|          | 0/200 [00:00<?, ?it/s]"
      ]
     },
     "metadata": {},
     "output_type": "display_data"
    },
    {
     "data": {
      "application/vnd.jupyter.widget-view+json": {
       "model_id": "4fec066f04f94c2488362016615d3657",
       "version_major": 2,
       "version_minor": 0
      },
      "text/plain": [
       "Processing rows:   0%|          | 0/500 [00:00<?, ?it/s]"
      ]
     },
     "metadata": {},
     "output_type": "display_data"
    },
    {
     "data": {
      "application/vnd.jupyter.widget-view+json": {
       "model_id": "03b19984f2f3446fad7617828a379edc",
       "version_major": 2,
       "version_minor": 0
      },
      "text/plain": [
       "Processing rows:   0%|          | 0/200 [00:00<?, ?it/s]"
      ]
     },
     "metadata": {},
     "output_type": "display_data"
    },
    {
     "data": {
      "application/vnd.jupyter.widget-view+json": {
       "model_id": "bcad5dcd047046c5b5f7ad4027181071",
       "version_major": 2,
       "version_minor": 0
      },
      "text/plain": [
       "Processing rows:   0%|          | 0/500 [00:00<?, ?it/s]"
      ]
     },
     "metadata": {},
     "output_type": "display_data"
    },
    {
     "data": {
      "application/vnd.jupyter.widget-view+json": {
       "model_id": "5db80a24b1f449739777f9f99a4972c4",
       "version_major": 2,
       "version_minor": 0
      },
      "text/plain": [
       "Processing rows:   0%|          | 0/200 [00:00<?, ?it/s]"
      ]
     },
     "metadata": {},
     "output_type": "display_data"
    },
    {
     "data": {
      "application/vnd.jupyter.widget-view+json": {
       "model_id": "a36d96a654624212ad5da640ea1a50d0",
       "version_major": 2,
       "version_minor": 0
      },
      "text/plain": [
       "Processing rows:   0%|          | 0/500 [00:00<?, ?it/s]"
      ]
     },
     "metadata": {},
     "output_type": "display_data"
    },
    {
     "data": {
      "application/vnd.jupyter.widget-view+json": {
       "model_id": "ccd160df37fc4dceb6a76981ea1d9738",
       "version_major": 2,
       "version_minor": 0
      },
      "text/plain": [
       "Processing rows:   0%|          | 0/200 [00:00<?, ?it/s]"
      ]
     },
     "metadata": {},
     "output_type": "display_data"
    },
    {
     "data": {
      "application/vnd.jupyter.widget-view+json": {
       "model_id": "f95fd27c38874eadb71ec6165cda150d",
       "version_major": 2,
       "version_minor": 0
      },
      "text/plain": [
       "Processing rows:   0%|          | 0/500 [00:00<?, ?it/s]"
      ]
     },
     "metadata": {},
     "output_type": "display_data"
    },
    {
     "data": {
      "application/vnd.jupyter.widget-view+json": {
       "model_id": "0f02149ecadb4275b9d98e055d5ea692",
       "version_major": 2,
       "version_minor": 0
      },
      "text/plain": [
       "Processing rows:   0%|          | 0/200 [00:00<?, ?it/s]"
      ]
     },
     "metadata": {},
     "output_type": "display_data"
    },
    {
     "data": {
      "application/vnd.jupyter.widget-view+json": {
       "model_id": "41ab25b7df144c549b7a2015edd5ee36",
       "version_major": 2,
       "version_minor": 0
      },
      "text/plain": [
       "Processing rows:   0%|          | 0/500 [00:00<?, ?it/s]"
      ]
     },
     "metadata": {},
     "output_type": "display_data"
    },
    {
     "data": {
      "application/vnd.jupyter.widget-view+json": {
       "model_id": "2d9bb0ccce874fc98325baef728b5c48",
       "version_major": 2,
       "version_minor": 0
      },
      "text/plain": [
       "Processing rows:   0%|          | 0/200 [00:00<?, ?it/s]"
      ]
     },
     "metadata": {},
     "output_type": "display_data"
    },
    {
     "data": {
      "application/vnd.jupyter.widget-view+json": {
       "model_id": "7470d7ea21e4461cbb442d5114472ca7",
       "version_major": 2,
       "version_minor": 0
      },
      "text/plain": [
       "Processing rows:   0%|          | 0/500 [00:00<?, ?it/s]"
      ]
     },
     "metadata": {},
     "output_type": "display_data"
    },
    {
     "data": {
      "application/vnd.jupyter.widget-view+json": {
       "model_id": "365641fe8c134c43b9b66a6460d89ba9",
       "version_major": 2,
       "version_minor": 0
      },
      "text/plain": [
       "Processing rows:   0%|          | 0/200 [00:00<?, ?it/s]"
      ]
     },
     "metadata": {},
     "output_type": "display_data"
    },
    {
     "data": {
      "application/vnd.jupyter.widget-view+json": {
       "model_id": "7e9d51e589f44bdb97d018b3e0e39c3b",
       "version_major": 2,
       "version_minor": 0
      },
      "text/plain": [
       "Processing rows:   0%|          | 0/500 [00:00<?, ?it/s]"
      ]
     },
     "metadata": {},
     "output_type": "display_data"
    },
    {
     "data": {
      "application/vnd.jupyter.widget-view+json": {
       "model_id": "602e31b8b7c141bbac134a64223b2ed2",
       "version_major": 2,
       "version_minor": 0
      },
      "text/plain": [
       "Processing rows:   0%|          | 0/200 [00:00<?, ?it/s]"
      ]
     },
     "metadata": {},
     "output_type": "display_data"
    },
    {
     "data": {
      "application/vnd.jupyter.widget-view+json": {
       "model_id": "c51b3ad118ae4e5c9afd69f7c9995e1b",
       "version_major": 2,
       "version_minor": 0
      },
      "text/plain": [
       "Processing rows:   0%|          | 0/500 [00:00<?, ?it/s]"
      ]
     },
     "metadata": {},
     "output_type": "display_data"
    },
    {
     "data": {
      "application/vnd.jupyter.widget-view+json": {
       "model_id": "7d61a09f5347419a85e1957a3ac97331",
       "version_major": 2,
       "version_minor": 0
      },
      "text/plain": [
       "Processing rows:   0%|          | 0/200 [00:00<?, ?it/s]"
      ]
     },
     "metadata": {},
     "output_type": "display_data"
    },
    {
     "data": {
      "application/vnd.jupyter.widget-view+json": {
       "model_id": "aabaa70415f34f8ea45e6f4737b3483e",
       "version_major": 2,
       "version_minor": 0
      },
      "text/plain": [
       "Processing rows:   0%|          | 0/500 [00:00<?, ?it/s]"
      ]
     },
     "metadata": {},
     "output_type": "display_data"
    },
    {
     "data": {
      "application/vnd.jupyter.widget-view+json": {
       "model_id": "83c4554cfebe43c08c4eb1f9eb7a380d",
       "version_major": 2,
       "version_minor": 0
      },
      "text/plain": [
       "Processing rows:   0%|          | 0/200 [00:00<?, ?it/s]"
      ]
     },
     "metadata": {},
     "output_type": "display_data"
    },
    {
     "data": {
      "application/vnd.jupyter.widget-view+json": {
       "model_id": "d50205fe733245a9a04f211ad8fdb4b5",
       "version_major": 2,
       "version_minor": 0
      },
      "text/plain": [
       "Processing rows:   0%|          | 0/500 [00:00<?, ?it/s]"
      ]
     },
     "metadata": {},
     "output_type": "display_data"
    },
    {
     "data": {
      "application/vnd.jupyter.widget-view+json": {
       "model_id": "b6250d7134a148a691e7095788fbee67",
       "version_major": 2,
       "version_minor": 0
      },
      "text/plain": [
       "Processing rows:   0%|          | 0/200 [00:00<?, ?it/s]"
      ]
     },
     "metadata": {},
     "output_type": "display_data"
    },
    {
     "data": {
      "application/vnd.jupyter.widget-view+json": {
       "model_id": "0eec3b7780c74b88b080e881f227a180",
       "version_major": 2,
       "version_minor": 0
      },
      "text/plain": [
       "Processing rows:   0%|          | 0/500 [00:00<?, ?it/s]"
      ]
     },
     "metadata": {},
     "output_type": "display_data"
    },
    {
     "data": {
      "application/vnd.jupyter.widget-view+json": {
       "model_id": "c99cf64672304850b9d58eed8ae14256",
       "version_major": 2,
       "version_minor": 0
      },
      "text/plain": [
       "Processing rows:   0%|          | 0/200 [00:00<?, ?it/s]"
      ]
     },
     "metadata": {},
     "output_type": "display_data"
    },
    {
     "data": {
      "application/vnd.jupyter.widget-view+json": {
       "model_id": "ae9ce3a8b61f4b76b733fab326a154aa",
       "version_major": 2,
       "version_minor": 0
      },
      "text/plain": [
       "Processing rows:   0%|          | 0/500 [00:00<?, ?it/s]"
      ]
     },
     "metadata": {},
     "output_type": "display_data"
    }
   ],
   "source": [
    "overall_results = defaultdict(lambda: defaultdict(lambda: {'matches': 0, 'R²': [], 'MAE': [], 'RMSE': [], 'Accuracy': [], 'Explained Variance': [], 'MedAE': [], 'Max Error': [], 'RAE': [], 'MASE': [], 'sMAPE': [], 'Bias': [], 'PICP': [], 'CV': [], 'Quantile Loss': [], 'Durbin-Watson': []}))\n",
    "\n",
    "for experiment in experiments:\n",
    "    if experiment['name'] in experiments_to_run:\n",
    "        experiment_name = experiment['name']\n",
    "        experiment_module_name = experiment['module']\n",
    "        experiment_prefix = experiment['prefix']\n",
    "        important_features = experiment['important_features']\n",
    "\n",
    "        experiment_module = importlib.import_module(experiment_module_name)\n",
    "        generate_test_data = getattr(experiment_module, 'generate_test_data')\n",
    "\n",
    "        results_table = []\n",
    "        exp_index = 1\n",
    "        total_iterations = N * len(sample_sizes) * len(models)\n",
    "\n",
    "        with tqdm(total=total_iterations, desc=f\"Running {experiment_name}\", leave=True) as pbar:\n",
    "            for iteration in range(N):\n",
    "                for size in sample_sizes:\n",
    "                    try:\n",
    "                        data = generate_test_data(size)\n",
    "                        X_processed, y, mappings = pre_process_data(data, target_column=target_column)\n",
    "                        X_train, X_test, y_train, y_test = train_test_split(X_processed, y, test_size=0.2, random_state=7)\n",
    "\n",
    "                        for model_name, model in models.items():\n",
    "                            result = run_model(model_name, model, X_train, X_test, y_train, y_test, X_processed, important_features)\n",
    "                            if result is not None:\n",
    "                                results_table.append(result)\n",
    "                                exp_index += 1\n",
    "                                pbar.update(1)\n",
    "                    except Exception as e:\n",
    "                        tqdm.write(f\"Error during processing at sample size {size}: {e}\")\n",
    "                        continue\n",
    "\n",
    "    raw_results_df = pd.DataFrame(results_table)\n",
    "    csv_filename = f\"{experiment_prefix}_{experiment_file_name}.csv\"\n",
    "    raw_results_df.to_csv(csv_filename, index=False)\n",
    "    print(f\"Results for {experiment_name} saved to {csv_filename}\")"
   ]
  }
 ],
 "metadata": {
  "kernelspec": {
   "display_name": "OPIT",
   "language": "python",
   "name": "python3"
  },
  "language_info": {
   "codemirror_mode": {
    "name": "ipython",
    "version": 3
   },
   "file_extension": ".py",
   "mimetype": "text/x-python",
   "name": "python",
   "nbconvert_exporter": "python",
   "pygments_lexer": "ipython3",
   "version": "3.11.5"
  }
 },
 "nbformat": 4,
 "nbformat_minor": 2
}
